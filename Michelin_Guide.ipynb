{
 "cells": [
  {
   "cell_type": "markdown",
   "source": [
    "# The Michelin Guide #"
   ],
   "metadata": {
    "collapsed": false
   }
  },
  {
   "cell_type": "markdown",
   "source": [
    "Import modules"
   ],
   "metadata": {
    "collapsed": false
   }
  },
  {
   "cell_type": "code",
   "execution_count": 1,
   "metadata": {
    "collapsed": true
   },
   "outputs": [],
   "source": [
    "import pandas as pd"
   ]
  },
  {
   "cell_type": "markdown",
   "source": [
    "Initial inspection"
   ],
   "metadata": {
    "collapsed": false
   }
  },
  {
   "cell_type": "code",
   "execution_count": 4,
   "outputs": [
    {
     "name": "stdout",
     "output_type": "stream",
     "text": [
      "Columns: ['Name', 'Address', 'Location', 'Price', 'Cuisine', 'Longitude', 'Latitude', 'PhoneNumber', 'Url', 'WebsiteUrl', 'Award', 'FacilitiesAndServices']\n",
      "\n",
      "Head:\n",
      "            Name                                        Address  \\\n",
      "0         Quince    470 Pacific Ave., San Francisco, 94133, USA   \n",
      "1  Atelier Crenn   3127 Fillmore St., San Francisco, 94123, USA   \n",
      "2        Addison  5200 Grand Del Mar Way, San Diego, 92130, USA   \n",
      "3        Manresa         320 Village Ln., Los Gatos, 95030, USA   \n",
      "4           Benu    22 Hawthorne St., San Francisco, 94105, USA   \n",
      "\n",
      "             Location Price                    Cuisine   Longitude   Latitude  \\\n",
      "0  San Francisco, USA  $$$$  Contemporary, Californian -122.403261  37.797505   \n",
      "1  San Francisco, USA  $$$$       Contemporary, French -122.435860  37.798350   \n",
      "2      San Diego, USA  $$$$  Contemporary, Californian -117.198891  32.941297   \n",
      "3      Los Gatos, USA  $$$$  Contemporary, Californian -121.980710  37.227610   \n",
      "4  San Francisco, USA  $$$$        Asian, Contemporary -122.399060  37.785376   \n",
      "\n",
      "    PhoneNumber                                                Url  \\\n",
      "0  1.415776e+10  https://guide.michelin.com/en/california/san-f...   \n",
      "1  1.415440e+10  https://guide.michelin.com/en/california/san-f...   \n",
      "2  1.858314e+10  https://guide.michelin.com/en/california/us-sa...   \n",
      "3  1.408354e+10  https://guide.michelin.com/en/california/los-g...   \n",
      "4  1.415685e+10  https://guide.michelin.com/en/california/san-f...   \n",
      "\n",
      "                           WebsiteUrl             Award  \\\n",
      "0     http://www.quincerestaurant.com  3 MICHELIN Stars   \n",
      "1       https://www.ateliercrenn.com/  3 MICHELIN Stars   \n",
      "2      https://www.addisondelmar.com/  3 MICHELIN Stars   \n",
      "3  https://www.manresarestaurant.com/  3 MICHELIN Stars   \n",
      "4             https://www.benusf.com/  3 MICHELIN Stars   \n",
      "\n",
      "                               FacilitiesAndServices  \n",
      "0  Air conditioning,American Express credit card,...  \n",
      "1  Air conditioning,Credit card / Debit card acce...  \n",
      "2  Air conditioning,American Express credit card,...  \n",
      "3  Air conditioning,Credit card / Debit card acce...  \n",
      "4  Air conditioning,Credit card / Debit card acce...  \n"
     ]
    }
   ],
   "source": [
    "michelin = pd.read_csv('michelin_my_maps.csv')\n",
    "print(f\"Columns: {michelin.columns.tolist()}\\n\")\n",
    "print(f\"Head:\\n{michelin.head()}\")"
   ],
   "metadata": {
    "collapsed": false
   }
  },
  {
   "cell_type": "markdown",
   "source": [
    "I will lose the 'FacilitiesAndServices column.\n",
    "\n",
    "'WebsiteUrl' doesn't seem particularly useful but will keep it for now"
   ],
   "metadata": {
    "collapsed": false
   }
  },
  {
   "cell_type": "code",
   "execution_count": 5,
   "outputs": [
    {
     "name": "stdout",
     "output_type": "stream",
     "text": [
      "\n",
      "New Head:\n",
      "            Name                                        Address  \\\n",
      "0         Quince    470 Pacific Ave., San Francisco, 94133, USA   \n",
      "1  Atelier Crenn   3127 Fillmore St., San Francisco, 94123, USA   \n",
      "2        Addison  5200 Grand Del Mar Way, San Diego, 92130, USA   \n",
      "3        Manresa         320 Village Ln., Los Gatos, 95030, USA   \n",
      "4           Benu    22 Hawthorne St., San Francisco, 94105, USA   \n",
      "\n",
      "             Location Price                    Cuisine   Longitude   Latitude  \\\n",
      "0  San Francisco, USA  $$$$  Contemporary, Californian -122.403261  37.797505   \n",
      "1  San Francisco, USA  $$$$       Contemporary, French -122.435860  37.798350   \n",
      "2      San Diego, USA  $$$$  Contemporary, Californian -117.198891  32.941297   \n",
      "3      Los Gatos, USA  $$$$  Contemporary, Californian -121.980710  37.227610   \n",
      "4  San Francisco, USA  $$$$        Asian, Contemporary -122.399060  37.785376   \n",
      "\n",
      "    PhoneNumber                                                Url  \\\n",
      "0  1.415776e+10  https://guide.michelin.com/en/california/san-f...   \n",
      "1  1.415440e+10  https://guide.michelin.com/en/california/san-f...   \n",
      "2  1.858314e+10  https://guide.michelin.com/en/california/us-sa...   \n",
      "3  1.408354e+10  https://guide.michelin.com/en/california/los-g...   \n",
      "4  1.415685e+10  https://guide.michelin.com/en/california/san-f...   \n",
      "\n",
      "                           WebsiteUrl             Award  \n",
      "0     http://www.quincerestaurant.com  3 MICHELIN Stars  \n",
      "1       https://www.ateliercrenn.com/  3 MICHELIN Stars  \n",
      "2      https://www.addisondelmar.com/  3 MICHELIN Stars  \n",
      "3  https://www.manresarestaurant.com/  3 MICHELIN Stars  \n",
      "4             https://www.benusf.com/  3 MICHELIN Stars  \n"
     ]
    }
   ],
   "source": [
    "michelin = michelin[['Name', 'Address', 'Location', 'Price', 'Cuisine',\n",
    "                     'Longitude', 'Latitude', 'PhoneNumber', 'Url', 'WebsiteUrl', 'Award']]\n",
    "print(f\"\\nNew Head:\\n{michelin.head()}\")"
   ],
   "metadata": {
    "collapsed": false
   }
  },
  {
   "cell_type": "markdown",
   "source": [
    "Will convert all columns to lowercase"
   ],
   "metadata": {
    "collapsed": false
   }
  },
  {
   "cell_type": "code",
   "execution_count": 6,
   "outputs": [
    {
     "name": "stdout",
     "output_type": "stream",
     "text": [
      "\n",
      "New Columns: ['name', 'address', 'location', 'price', 'cuisine', 'longitude', 'latitude', 'phonenumber', 'url', 'websiteurl', 'award']\n",
      "\n"
     ]
    }
   ],
   "source": [
    "michelin.columns = michelin.columns.str.lower()\n",
    "print(f\"\\nNew Columns: {michelin.columns.tolist()}\\n\")"
   ],
   "metadata": {
    "collapsed": false
   }
  },
  {
   "cell_type": "markdown",
   "source": [
    "Rename"
   ],
   "metadata": {
    "collapsed": false
   }
  },
  {
   "cell_type": "code",
   "execution_count": 7,
   "outputs": [
    {
     "name": "stdout",
     "output_type": "stream",
     "text": [
      "\n",
      "New Columns: ['name', 'address', 'location', 'price', 'cuisine', 'longitude', 'latitude', 'phone_number', 'url', 'website_url', 'award']\n",
      "\n"
     ]
    }
   ],
   "source": [
    "michelin.rename({'phonenumber': 'phone_number', 'websiteurl': 'website_url'}, axis=1, inplace=True)\n",
    "print(f\"\\nNew Columns: {michelin.columns.tolist()}\\n\")"
   ],
   "metadata": {
    "collapsed": false
   }
  },
  {
   "cell_type": "markdown",
   "source": [
    "I'd like to see the range unique values in each column & the number of said values\n",
    "Not interested in 'cuisine' for now"
   ],
   "metadata": {
    "collapsed": false
   }
  },
  {
   "cell_type": "code",
   "execution_count": 9,
   "outputs": [
    {
     "name": "stdout",
     "output_type": "stream",
     "text": [
      "\n",
      "Unique names: ['Quince' 'Atelier Crenn' 'Addison' ... 'Zazie' 'Butchery & Wine'\n",
      " 'alewino'].\n",
      "Total unique = 6637 values\n",
      "\n",
      "Unique addresss: ['470 Pacific Ave., San Francisco, 94133, USA'\n",
      " '3127 Fillmore St., San Francisco, 94123, USA'\n",
      " '5200 Grand Del Mar Way, San Diego, 92130, USA' ...\n",
      " 'ul. Józefa 34, Cracow, 32 056, Poland'\n",
      " 'ul. Żurawia 22, Warsaw, 00 515, Poland'\n",
      " 'ul. Mokotowska 48, Warsaw, 00 543, Poland'].\n",
      "Total unique = 6666 values\n",
      "\n",
      "Unique locations: ['San Francisco, USA' 'San Diego, USA' 'Los Gatos, USA' ...\n",
      " 'Almuñécar, Spain' 'Vitoria-Gasteiz, Spain' 'Warsaw, Poland'].\n",
      "Total unique = 2668 values\n",
      "\n",
      "Unique prices: ['$$$$' '€€€€' '¥¥¥¥' '₩₩₩₩' '¥¥¥' '££££' '$$$' '฿฿฿฿' '€€€' '₺₺₺₺' '$$'\n",
      " '¥¥' nan '฿฿฿' '฿฿' '€€' '¥' '₩₩₩' '₺₺' '₺₺₺' '$' '£££' '££' '€' '฿' '₩'\n",
      " '₩₩' '₺' '£'].\n",
      "Total unique = 29 values\n",
      "\n",
      "Unique longitudes: [-122.4032607 -122.43586   -117.1988908 ...   19.9469489   21.0154954\n",
      "   21.022057 ].\n",
      "Total unique = 6776 values\n",
      "\n",
      "Unique latitudes: [37.7975054 37.79835   32.9412972 ... 50.0512398 52.2285815 52.2252009].\n",
      "Total unique = 6778 values\n",
      "\n",
      "Unique phone_numbers: [1.41577585e+10 1.41544005e+10 1.85831419e+10 ... 4.85004108e+10\n",
      " 4.82250231e+10 4.82262838e+10].\n",
      "Total unique = 6569 values\n",
      "\n",
      "Unique urls: ['https://guide.michelin.com/en/california/san-francisco/restaurant/quince'\n",
      " 'https://guide.michelin.com/en/california/san-francisco/restaurant/atelier-crenn'\n",
      " 'https://guide.michelin.com/en/california/us-san-diego/restaurant/addison'\n",
      " ... 'https://guide.michelin.com/en/lesser-poland/cracow/restaurant/zazie'\n",
      " 'https://guide.michelin.com/en/masovia/warsaw/restaurant/butchery-and-wine'\n",
      " 'https://guide.michelin.com/en/masovia/warsaw/restaurant/alewino'].\n",
      "Total unique = 6795 values\n",
      "\n",
      "Unique website_urls: ['http://www.quincerestaurant.com' 'https://www.ateliercrenn.com/'\n",
      " 'https://www.addisondelmar.com/' ... 'http://www.zaziebistro.pl/'\n",
      " 'https://www.butcheryandwine.pl/' 'http://www.alewino.pl/'].\n",
      "Total unique = 5424 values\n",
      "\n",
      "Unique awards: ['3 MICHELIN Stars' '2 MICHELIN Stars' '1 MICHELIN Star' 'Bib Gourmand'].\n",
      "Total unique = 4 values\n"
     ]
    }
   ],
   "source": [
    "for i in michelin:\n",
    "    if i == 'cuisine':\n",
    "        pass\n",
    "    else:\n",
    "        print(f\"\\nUnique {i}s: {michelin[i].unique()}.\\nTotal unique = {len(michelin[i].unique())} values\")"
   ],
   "metadata": {
    "collapsed": false
   }
  },
  {
   "cell_type": "markdown",
   "source": [
    "#### Next task is to separate the 'location' column into; ####\n",
    "- 'country' column. eg, USA\n",
    "- 'city' column. eg, San Francisco\n",
    "- Try and retain the postal code and attach it to the main address\n",
    "\n",
    "This will good practice of the regex principles that I have just learned (If nothing else)"
   ],
   "metadata": {
    "collapsed": false
   }
  },
  {
   "cell_type": "code",
   "execution_count": 10,
   "outputs": [
    {
     "name": "stdout",
     "output_type": "stream",
     "text": [
      "\n",
      "New Columns: ['name', 'address', 'location', 'price', 'cuisine', 'longitude', 'latitude', 'phone_number', 'url', 'website_url', 'award', 'city', 'country']\n",
      "\n"
     ]
    }
   ],
   "source": [
    "location_split = michelin['location'].str.split(', ')\n",
    "\n",
    "michelin[\"city\"] = location_split.str.get(0)\n",
    "michelin['country'] = location_split.str.get(1)\n",
    "\n",
    "print(f\"\\nNew Columns: {michelin.columns.tolist()}\\n\")"
   ],
   "metadata": {
    "collapsed": false
   }
  },
  {
   "cell_type": "code",
   "execution_count": 11,
   "outputs": [
    {
     "name": "stdout",
     "output_type": "stream",
     "text": [
      "\n",
      "New Columns: ['name', 'city', 'country', 'address', 'price', 'cuisine', 'longitude', 'latitude', 'phone_number', 'url', 'website_url', 'award']\n",
      "\n"
     ]
    }
   ],
   "source": [
    "michelin = michelin[['name', 'city', 'country', 'address', 'price', 'cuisine', 'longitude', 'latitude', 'phone_number', 'url', 'website_url', 'award', ]]\n",
    "print(f\"\\nNew Columns: {michelin.columns.tolist()}\\n\")"
   ],
   "metadata": {
    "collapsed": false
   }
  },
  {
   "cell_type": "code",
   "execution_count": 12,
   "outputs": [
    {
     "name": "stdout",
     "output_type": "stream",
     "text": [
      "\n",
      "Unique countries: ['USA' 'Spain' 'Japan' 'Italy' 'Switzerland' 'South Korea'\n",
      " 'Taipei & Taichung' nan 'Norway' 'Denmark' 'Sweden' 'Netherlands'\n",
      " 'Belgium' 'France' 'Germany' 'United Kingdom' 'Austria' 'China Mainland'\n",
      " 'Thailand' 'Portugal' 'Hungary' 'Türkiye' 'Greece' 'Canada' 'Slovenia'\n",
      " 'Finland' 'Luxembourg' 'Ireland' 'Brazil' 'Malaysia' 'Andorra' 'Iceland'\n",
      " 'Croatia' 'Estonia' 'Malta' 'Czech Republic' 'Poland' 'Serbia'].\n",
      "Total unique = 38 values\n",
      "\n",
      "\n",
      "Unique cities: ['San Francisco' 'San Diego' 'Los Gatos' ... 'Almuñécar' 'Vitoria-Gasteiz'\n",
      " 'Warsaw'].\n",
      "Total unique = 2665 values\n"
     ]
    }
   ],
   "source": [
    "print(f\"\\nUnique countries: {michelin['country'].unique()}.\\nTotal unique = {len(michelin['country'].unique())} values\\n\")\n",
    "print(f\"\\nUnique cities: {michelin['city'].unique()}.\\nTotal unique = {len(michelin['city'].unique())} values\")"
   ],
   "metadata": {
    "collapsed": false
   }
  },
  {
   "cell_type": "code",
   "execution_count": 29,
   "outputs": [
    {
     "name": "stdout",
     "output_type": "stream",
     "text": [
      "\n",
      "Unique cities: ['Cartmel' 'Bray' 'London' 'Machynlleth' 'Summerhouse' 'Auchterarder'\n",
      " 'Great Milton' 'Nottingham' 'Cambridge' 'Aughton' 'Marlow' 'Hunstanton'\n",
      " 'Anstruther' 'Menai Bridge' 'Lympstone' 'Whitebrook' 'Lower Beeding'\n",
      " 'Ripley' 'Wall' 'Holt' 'Bridge' 'Dorking' 'Seasalter' 'Morston' 'Fence'\n",
      " 'Castle Combe' 'Murcott' 'Birkenhead' 'Whatcote' 'South Dalton'\n",
      " 'Mountsorrel' 'Hambleton' 'Malmesbury' 'Askham' 'Peat Inn' 'Colerne'\n",
      " 'Skelton' 'Bagshot' 'Aberystwyth' 'Oldstead' 'Hetton' 'Tenbury Wells'\n",
      " 'Fordwich' 'Saltwood' 'Bury St Edmunds' 'Stratford-on-Avon'\n",
      " 'Winteringham' 'Ripon' 'Braithwaite' 'Langho' 'East Wallhouses' 'Torquay'\n",
      " 'Saint Helier' 'Broadstairs' 'Bowness-on-Windermere' 'Knowstone'\n",
      " 'Port Isaac' 'Harome' 'Llanddewi Skirrid' 'Grasmere' 'Penarth'\n",
      " 'Isle of Skye' 'Newbury' 'Hampton in Arden' 'Lichfield' 'Amersham'\n",
      " 'East Grinstead' 'Leith' 'Oxwich' 'Bath' 'Ascot' 'Manchester' 'York'\n",
      " 'Padstow' 'Birmingham' 'Newcastle Upon Tyne' 'Ambleside' 'Leeds'\n",
      " 'Belfast' 'Glasgow City' 'Edinburgh' 'Crieff' 'Cheltenham'\n",
      " 'City of Bristol' 'Bruton' 'Kenilworth' 'Langford' 'Melrose' 'Bidborough'\n",
      " 'Wiveton' 'Stanton' 'Gerrards Cross' 'New Alresford' 'Thorpe Market'\n",
      " 'Tenterden' 'Looe' 'Beaumont' 'Ewell' 'Ilfracombe' 'St Leonards on Sea'\n",
      " 'Colwyn Bay' 'Welland' 'Thornton' 'South Ferriby' 'Burrough on the Hill'\n",
      " 'Oakham' 'Aberthin' 'Dartmouth' 'Seaview' 'Sculthorpe' 'Porthleven'\n",
      " 'Holywood' 'Tavistock' 'Gullane' 'Moira' 'Ellastone' 'West Hoathly'\n",
      " 'Howe Street' 'Kilberry' 'Brighton and Hove' 'Margate' 'South Wraxall'\n",
      " 'Colchester' 'Ludlow' 'Ponteland' 'Sherborne' 'Drighlington' 'Hunsdon'].\n",
      "Total unique = 128 values\n",
      "\n",
      "UK Head:                                 name     city         country  \\\n",
      "119                        L'Enclume  Cartmel  United Kingdom   \n",
      "120                         Fat Duck     Bray  United Kingdom   \n",
      "121                    Waterside Inn     Bray  United Kingdom   \n",
      "122         Restaurant Gordon Ramsay   London  United Kingdom   \n",
      "123  Hélène Darroze at The Connaught   London  United Kingdom   \n",
      "\n",
      "                                               address price         cuisine  \\\n",
      "119  Cavendish Street, Cartmel, LA11 6PZ, United Ki...  ££££        Creative   \n",
      "120         High Street, Bray, SL6 2AQ, United Kingdom  ££££        Creative   \n",
      "121          Ferry Road, Bray, SL6 2AT, United Kingdom  ££££  Classic French   \n",
      "122  68-69 Royal Hospital Road, London, SW3 4HP, Un...  ££££          French   \n",
      "123      Carlos Place, London, W1K 2AL, United Kingdom  ££££  Modern Cuisine   \n",
      "\n",
      "     longitude   latitude  phone_number  \\\n",
      "119  -2.953857  54.201725  4.415395e+11   \n",
      "120  -0.701753  51.507858  4.416286e+11   \n",
      "121  -0.699438  51.509109  4.416286e+11   \n",
      "122  -0.162177  51.485438  4.420735e+11   \n",
      "123  -0.149290  51.510188  4.420315e+11   \n",
      "\n",
      "                                                   url  \\\n",
      "119  https://guide.michelin.com/en/cumbria/cartmel/...   \n",
      "120  https://guide.michelin.com/en/windsor-and-maid...   \n",
      "121  https://guide.michelin.com/en/windsor-and-maid...   \n",
      "122  https://guide.michelin.com/en/greater-london/l...   \n",
      "123  https://guide.michelin.com/en/greater-london/l...   \n",
      "\n",
      "                                           website_url             award  \n",
      "119                        https://www.lenclume.co.uk/  3 MICHELIN Stars  \n",
      "120                          https://thefatduck.co.uk/  3 MICHELIN Stars  \n",
      "121                   https://www.waterside-inn.co.uk/  3 MICHELIN Stars  \n",
      "122  https://www.gordonramsayrestaurants.com/restau...  3 MICHELIN Stars  \n",
      "123  https://www.the-connaught.co.uk/restaurants-ba...  3 MICHELIN Stars  \n"
     ]
    }
   ],
   "source": [
    "michelin_uk = michelin[michelin['country'] == 'United Kingdom']\n",
    "print(f\"\\nUnique cities: {michelin_uk['city'].unique()}.\\nTotal unique = {len(michelin_uk['city'].unique())} values\\n\")\n",
    "\n",
    "print(f\"UK Head: {michelin_uk.head()}\")"
   ],
   "metadata": {
    "collapsed": false
   }
  }
 ],
 "metadata": {
  "kernelspec": {
   "display_name": "Python 3",
   "language": "python",
   "name": "python3"
  },
  "language_info": {
   "codemirror_mode": {
    "name": "ipython",
    "version": 2
   },
   "file_extension": ".py",
   "mimetype": "text/x-python",
   "name": "python",
   "nbconvert_exporter": "python",
   "pygments_lexer": "ipython2",
   "version": "2.7.6"
  }
 },
 "nbformat": 4,
 "nbformat_minor": 0
}
